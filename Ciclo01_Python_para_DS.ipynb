{
  "nbformat": 4,
  "nbformat_minor": 0,
  "metadata": {
    "colab": {
      "provenance": []
    },
    "kernelspec": {
      "name": "python3",
      "display_name": "Python 3"
    },
    "language_info": {
      "name": "python"
    }
  },
  "cells": [
    {
      "cell_type": "markdown",
      "source": [
        "## Exibição de Mensagem"
      ],
      "metadata": {
        "id": "TMzm9-3g2hnE"
      }
    },
    {
      "cell_type": "code",
      "execution_count": 1,
      "metadata": {
        "colab": {
          "base_uri": "https://localhost:8080/"
        },
        "id": "O2IXsjBQ11Ki",
        "outputId": "9309fb2f-5847-42a4-87fb-3a8b26eacd95"
      },
      "outputs": [
        {
          "output_type": "stream",
          "name": "stdout",
          "text": [
            "Hello World\n"
          ]
        }
      ],
      "source": [
        "print('Hello World')"
      ]
    },
    {
      "cell_type": "markdown",
      "source": [
        "## Operações matemáticas"
      ],
      "metadata": {
        "id": "GqoyWvv222Ur"
      }
    },
    {
      "cell_type": "code",
      "source": [
        "100 + 30"
      ],
      "metadata": {
        "id": "J48-GZj_28k1"
      },
      "execution_count": null,
      "outputs": []
    },
    {
      "cell_type": "code",
      "source": [
        "100 - 30"
      ],
      "metadata": {
        "id": "mh8eaJi53AxM"
      },
      "execution_count": null,
      "outputs": []
    },
    {
      "cell_type": "code",
      "source": [
        "20*20"
      ],
      "metadata": {
        "id": "Dqu94eIf3DEY"
      },
      "execution_count": null,
      "outputs": []
    },
    {
      "cell_type": "markdown",
      "source": [
        "## Operações matemáticas com variáveis"
      ],
      "metadata": {
        "id": "PNz5gnsh3nef"
      }
    },
    {
      "cell_type": "code",
      "source": [
        "resultado_01 = 100 + 30\n",
        "resultado_02 = resultado_01 - 30\n",
        "resultado_03 = resultado_02 * 20"
      ],
      "metadata": {
        "id": "viLUeyVQ3rjx"
      },
      "execution_count": 5,
      "outputs": []
    },
    {
      "cell_type": "code",
      "source": [
        "print(resultado_01)\n",
        "print(resultado_02)\n",
        "print(resultado_03)"
      ],
      "metadata": {
        "colab": {
          "base_uri": "https://localhost:8080/"
        },
        "id": "_Nmu8ag24AgR",
        "outputId": "46b146e4-5320-4ead-d8a4-f46bc9b7a1c4"
      },
      "execution_count": 6,
      "outputs": [
        {
          "output_type": "stream",
          "name": "stdout",
          "text": [
            "130\n",
            "100\n",
            "2000\n"
          ]
        }
      ]
    },
    {
      "cell_type": "markdown",
      "source": [
        "## Condicionais"
      ],
      "metadata": {
        "id": "Rpgi2o5X5HaK"
      }
    },
    {
      "cell_type": "code",
      "source": [
        "horario = 'tarde'\n",
        "\n",
        "if horario == 'manha':\n",
        "  print('Bom dia')\n",
        "\n",
        "elif horario == 'noite':\n",
        "  print('Boa noite')\n",
        "\n",
        "else:\n",
        "  print('Boa tarde')"
      ],
      "metadata": {
        "colab": {
          "base_uri": "https://localhost:8080/"
        },
        "id": "_mhw-5U75Mh0",
        "outputId": "de6af14a-7e0a-4a7c-95b1-7f3e664a2c29"
      },
      "execution_count": 9,
      "outputs": [
        {
          "output_type": "stream",
          "name": "stdout",
          "text": [
            "Boa tarde\n"
          ]
        }
      ]
    }
  ]
}