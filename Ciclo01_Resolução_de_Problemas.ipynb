{
  "nbformat": 4,
  "nbformat_minor": 0,
  "metadata": {
    "colab": {
      "provenance": []
    },
    "kernelspec": {
      "name": "python3",
      "display_name": "Python 3"
    },
    "language_info": {
      "name": "python"
    }
  },
  "cells": [
    {
      "cell_type": "code",
      "execution_count": 4,
      "metadata": {
        "id": "TaDuJ-7xBXJv"
      },
      "outputs": [],
      "source": [
        "import pandas as pd\n",
        "import numpy as np\n",
        "\n",
        "\n",
        "data = pd.read_csv('/content/AB_NYC_2019.csv')"
      ]
    },
    {
      "cell_type": "markdown",
      "source": [
        "##Calcular a média de todos os valores de aluguel da cidade\n",
        "de Nova York."
      ],
      "metadata": {
        "id": "dfxiNmUfCa9D"
      }
    },
    {
      "cell_type": "code",
      "source": [
        "preco_aluguel = data.loc[:, 'price']\n",
        "np.mean(preco_aluguel)"
      ],
      "metadata": {
        "colab": {
          "base_uri": "https://localhost:8080/"
        },
        "id": "CgmjKNjBClZ4",
        "outputId": "10ccd1a5-252c-4997-9e42-023a178c6a8a"
      },
      "execution_count": 5,
      "outputs": [
        {
          "output_type": "execute_result",
          "data": {
            "text/plain": [
              "152.7206871868289"
            ]
          },
          "metadata": {},
          "execution_count": 5
        }
      ]
    },
    {
      "cell_type": "markdown",
      "source": [
        "##Contar todos os nomes distintos que aparecem na coluna região."
      ],
      "metadata": {
        "id": "zxTL8vJrDn7f"
      }
    },
    {
      "cell_type": "code",
      "source": [
        "regiao = data.loc[:, 'neighbourhood_group']\n",
        "pd.unique(regiao)"
      ],
      "metadata": {
        "colab": {
          "base_uri": "https://localhost:8080/"
        },
        "id": "znz8FKm1DuVc",
        "outputId": "a1cb65a2-0d7c-4959-a04b-0e67a059081e"
      },
      "execution_count": 6,
      "outputs": [
        {
          "output_type": "execute_result",
          "data": {
            "text/plain": [
              "array(['Brooklyn', 'Manhattan', 'Queens', 'Staten Island', 'Bronx'],\n",
              "      dtype=object)"
            ]
          },
          "metadata": {},
          "execution_count": 6
        }
      ]
    },
    {
      "cell_type": "markdown",
      "source": [
        "##Encontrar o valor máximo da coluna que contém os valores dos aluguéis\n"
      ],
      "metadata": {
        "id": "PhWk0ATWEMid"
      }
    },
    {
      "cell_type": "code",
      "source": [
        "preco_aluguel = data.loc[:, 'price']\n",
        "np.max(preco_aluguel)"
      ],
      "metadata": {
        "colab": {
          "base_uri": "https://localhost:8080/"
        },
        "id": "BEvK2WojESCa",
        "outputId": "01ae3c29-ccd9-4817-fe2b-0cff96c4bbac"
      },
      "execution_count": 7,
      "outputs": [
        {
          "output_type": "execute_result",
          "data": {
            "text/plain": [
              "10000"
            ]
          },
          "metadata": {},
          "execution_count": 7
        }
      ]
    }
  ]
}